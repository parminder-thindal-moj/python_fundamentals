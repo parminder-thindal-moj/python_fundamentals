{
 "cells": [
  {
   "cell_type": "code",
   "execution_count": 1,
   "metadata": {},
   "outputs": [
    {
     "name": "stderr",
     "output_type": "stream",
     "text": [
      "/var/folders/1c/2l3t80fd68337kqkdg5w4dqr0000gn/T/ipykernel_80264/4281249191.py:2: DeprecationWarning: \n",
      "Pyarrow will become a required dependency of pandas in the next major release of pandas (pandas 3.0),\n",
      "(to allow more performant data types, such as the Arrow string type, and better interoperability with other libraries)\n",
      "but was not found to be installed on your system.\n",
      "If this would cause problems for you,\n",
      "please provide us feedback at https://github.com/pandas-dev/pandas/issues/54466\n",
      "        \n",
      "  import pandas as pd\n"
     ]
    }
   ],
   "source": [
    "# Import Libraries:\n",
    "import pandas as pd\n",
    "import numpy as np\n",
    "from matplotlib import pyplot as plt\n",
    "import seaborn as sns\n",
    "import altair as alt"
   ]
  },
  {
   "cell_type": "code",
   "execution_count": 2,
   "metadata": {},
   "outputs": [],
   "source": [
    "dtypes = {\n",
    "    \"first_name\": \"category\",\n",
    "    \"gender\": \"category\",\n",
    "    \"type\": \"category\",\n",
    "    \"state\": \"category\",\n",
    "    \"party\": \"category\",\n",
    "}"
   ]
  },
  {
   "cell_type": "code",
   "execution_count": 12,
   "metadata": {},
   "outputs": [],
   "source": [
    "df = pd.read_csv(\n",
    "    \"data/legislators-historical.csv\",\n",
    "    dtype=dtypes,\n",
    "    usecols=list(dtypes) + [\"birthday\", \"last_name\"],\n",
    "    parse_dates=[\"birthday\"]\n",
    ")"
   ]
  },
  {
   "cell_type": "code",
   "execution_count": 13,
   "metadata": {},
   "outputs": [
    {
     "data": {
      "text/html": [
       "<div>\n",
       "<style scoped>\n",
       "    .dataframe tbody tr th:only-of-type {\n",
       "        vertical-align: middle;\n",
       "    }\n",
       "\n",
       "    .dataframe tbody tr th {\n",
       "        vertical-align: top;\n",
       "    }\n",
       "\n",
       "    .dataframe thead th {\n",
       "        text-align: right;\n",
       "    }\n",
       "</style>\n",
       "<table border=\"1\" class=\"dataframe\">\n",
       "  <thead>\n",
       "    <tr style=\"text-align: right;\">\n",
       "      <th></th>\n",
       "      <th>last_name</th>\n",
       "      <th>first_name</th>\n",
       "      <th>birthday</th>\n",
       "      <th>gender</th>\n",
       "      <th>type</th>\n",
       "      <th>state</th>\n",
       "      <th>party</th>\n",
       "    </tr>\n",
       "  </thead>\n",
       "  <tbody>\n",
       "    <tr>\n",
       "      <th>0</th>\n",
       "      <td>Bassett</td>\n",
       "      <td>Richard</td>\n",
       "      <td>1745-04-02</td>\n",
       "      <td>M</td>\n",
       "      <td>sen</td>\n",
       "      <td>DE</td>\n",
       "      <td>Anti-Administration</td>\n",
       "    </tr>\n",
       "    <tr>\n",
       "      <th>1</th>\n",
       "      <td>Bland</td>\n",
       "      <td>Theodorick</td>\n",
       "      <td>1742-03-21</td>\n",
       "      <td>M</td>\n",
       "      <td>rep</td>\n",
       "      <td>VA</td>\n",
       "      <td>NaN</td>\n",
       "    </tr>\n",
       "    <tr>\n",
       "      <th>2</th>\n",
       "      <td>Burke</td>\n",
       "      <td>Aedanus</td>\n",
       "      <td>1743-06-16</td>\n",
       "      <td>M</td>\n",
       "      <td>rep</td>\n",
       "      <td>SC</td>\n",
       "      <td>NaN</td>\n",
       "    </tr>\n",
       "    <tr>\n",
       "      <th>3</th>\n",
       "      <td>Carroll</td>\n",
       "      <td>Daniel</td>\n",
       "      <td>1730-07-22</td>\n",
       "      <td>M</td>\n",
       "      <td>rep</td>\n",
       "      <td>MD</td>\n",
       "      <td>NaN</td>\n",
       "    </tr>\n",
       "    <tr>\n",
       "      <th>4</th>\n",
       "      <td>Clymer</td>\n",
       "      <td>George</td>\n",
       "      <td>1739-03-16</td>\n",
       "      <td>M</td>\n",
       "      <td>rep</td>\n",
       "      <td>PA</td>\n",
       "      <td>NaN</td>\n",
       "    </tr>\n",
       "    <tr>\n",
       "      <th>...</th>\n",
       "      <td>...</td>\n",
       "      <td>...</td>\n",
       "      <td>...</td>\n",
       "      <td>...</td>\n",
       "      <td>...</td>\n",
       "      <td>...</td>\n",
       "      <td>...</td>\n",
       "    </tr>\n",
       "    <tr>\n",
       "      <th>12136</th>\n",
       "      <td>Feinstein</td>\n",
       "      <td>Dianne</td>\n",
       "      <td>1933-06-22</td>\n",
       "      <td>F</td>\n",
       "      <td>sen</td>\n",
       "      <td>CA</td>\n",
       "      <td>Democrat</td>\n",
       "    </tr>\n",
       "    <tr>\n",
       "      <th>12137</th>\n",
       "      <td>Cicilline</td>\n",
       "      <td>David</td>\n",
       "      <td>1961-07-15</td>\n",
       "      <td>M</td>\n",
       "      <td>rep</td>\n",
       "      <td>RI</td>\n",
       "      <td>Democrat</td>\n",
       "    </tr>\n",
       "    <tr>\n",
       "      <th>12138</th>\n",
       "      <td>Stewart</td>\n",
       "      <td>Chris</td>\n",
       "      <td>1960-07-15</td>\n",
       "      <td>M</td>\n",
       "      <td>rep</td>\n",
       "      <td>UT</td>\n",
       "      <td>Republican</td>\n",
       "    </tr>\n",
       "    <tr>\n",
       "      <th>12139</th>\n",
       "      <td>Santos</td>\n",
       "      <td>George</td>\n",
       "      <td>1988-07-22</td>\n",
       "      <td>M</td>\n",
       "      <td>rep</td>\n",
       "      <td>NY</td>\n",
       "      <td>Republican</td>\n",
       "    </tr>\n",
       "    <tr>\n",
       "      <th>12140</th>\n",
       "      <td>McCarthy</td>\n",
       "      <td>Kevin</td>\n",
       "      <td>1965-01-26</td>\n",
       "      <td>M</td>\n",
       "      <td>rep</td>\n",
       "      <td>CA</td>\n",
       "      <td>Republican</td>\n",
       "    </tr>\n",
       "  </tbody>\n",
       "</table>\n",
       "<p>12141 rows × 7 columns</p>\n",
       "</div>"
      ],
      "text/plain": [
       "       last_name  first_name   birthday gender type state                party\n",
       "0        Bassett     Richard 1745-04-02      M  sen    DE  Anti-Administration\n",
       "1          Bland  Theodorick 1742-03-21      M  rep    VA                  NaN\n",
       "2          Burke     Aedanus 1743-06-16      M  rep    SC                  NaN\n",
       "3        Carroll      Daniel 1730-07-22      M  rep    MD                  NaN\n",
       "4         Clymer      George 1739-03-16      M  rep    PA                  NaN\n",
       "...          ...         ...        ...    ...  ...   ...                  ...\n",
       "12136  Feinstein      Dianne 1933-06-22      F  sen    CA             Democrat\n",
       "12137  Cicilline       David 1961-07-15      M  rep    RI             Democrat\n",
       "12138    Stewart       Chris 1960-07-15      M  rep    UT           Republican\n",
       "12139     Santos      George 1988-07-22      M  rep    NY           Republican\n",
       "12140   McCarthy       Kevin 1965-01-26      M  rep    CA           Republican\n",
       "\n",
       "[12141 rows x 7 columns]"
      ]
     },
     "execution_count": 13,
     "metadata": {},
     "output_type": "execute_result"
    }
   ],
   "source": [
    "df"
   ]
  },
  {
   "cell_type": "code",
   "execution_count": 14,
   "metadata": {},
   "outputs": [
    {
     "data": {
      "text/plain": [
       "last_name             object\n",
       "first_name          category\n",
       "birthday      datetime64[ns]\n",
       "gender              category\n",
       "type                category\n",
       "state               category\n",
       "party               category\n",
       "dtype: object"
      ]
     },
     "execution_count": 14,
     "metadata": {},
     "output_type": "execute_result"
    }
   ],
   "source": [
    "df.dtypes"
   ]
  },
  {
   "cell_type": "code",
   "execution_count": 15,
   "metadata": {},
   "outputs": [
    {
     "name": "stderr",
     "output_type": "stream",
     "text": [
      "/var/folders/1c/2l3t80fd68337kqkdg5w4dqr0000gn/T/ipykernel_80264/3780717102.py:1: FutureWarning: The default of observed=False is deprecated and will be changed to True in a future version of pandas. Pass observed=False to retain current behavior or observed=True to adopt the future default and silence this warning.\n",
      "  df.groupby(\"state\")[\"last_name\"].count()\n"
     ]
    },
    {
     "data": {
      "text/plain": [
       "state\n",
       "AK      17\n",
       "AL     211\n",
       "AR     117\n",
       "AS       2\n",
       "AZ      51\n",
       "CA     375\n",
       "CO      93\n",
       "CT     240\n",
       "DC       2\n",
       "DE      97\n",
       "DK       9\n",
       "FL     166\n",
       "GA     319\n",
       "GU       5\n",
       "HI      25\n",
       "IA     206\n",
       "ID      59\n",
       "IL     493\n",
       "IN     345\n",
       "KS     143\n",
       "KY     374\n",
       "LA     199\n",
       "MA     427\n",
       "MD     306\n",
       "ME     175\n",
       "MI     300\n",
       "MN     162\n",
       "MO     337\n",
       "MS     156\n",
       "MT      52\n",
       "NC     360\n",
       "ND      44\n",
       "NE     129\n",
       "NH     181\n",
       "NJ     361\n",
       "NM      58\n",
       "NV      56\n",
       "NY    1479\n",
       "OH     681\n",
       "OK      94\n",
       "OL       2\n",
       "OR      92\n",
       "PA    1057\n",
       "PI      13\n",
       "PR      19\n",
       "RI     109\n",
       "SC     252\n",
       "SD      51\n",
       "TN     302\n",
       "TX     269\n",
       "UT      56\n",
       "VA     435\n",
       "VI       4\n",
       "VT     116\n",
       "WA      97\n",
       "WI     199\n",
       "WV     121\n",
       "WY      41\n",
       "Name: last_name, dtype: int64"
      ]
     },
     "execution_count": 15,
     "metadata": {},
     "output_type": "execute_result"
    }
   ],
   "source": [
    "df.groupby(\"state\")[\"last_name\"].count()"
   ]
  },
  {
   "cell_type": "code",
   "execution_count": 16,
   "metadata": {},
   "outputs": [
    {
     "name": "stderr",
     "output_type": "stream",
     "text": [
      "/var/folders/1c/2l3t80fd68337kqkdg5w4dqr0000gn/T/ipykernel_80264/1937943982.py:1: FutureWarning: The default of observed=False is deprecated and will be changed to True in a future version of pandas. Pass observed=False to retain current behavior or observed=True to adopt the future default and silence this warning.\n",
      "  df.groupby(\"gender\")[\"last_name\"].count()\n"
     ]
    },
    {
     "data": {
      "text/plain": [
       "gender\n",
       "F      271\n",
       "M    11870\n",
       "Name: last_name, dtype: int64"
      ]
     },
     "execution_count": 16,
     "metadata": {},
     "output_type": "execute_result"
    }
   ],
   "source": [
    "df.groupby(\"gender\")[\"last_name\"].count()"
   ]
  },
  {
   "cell_type": "code",
   "execution_count": 17,
   "metadata": {},
   "outputs": [
    {
     "data": {
      "text/html": [
       "<div>\n",
       "<style scoped>\n",
       "    .dataframe tbody tr th:only-of-type {\n",
       "        vertical-align: middle;\n",
       "    }\n",
       "\n",
       "    .dataframe tbody tr th {\n",
       "        vertical-align: top;\n",
       "    }\n",
       "\n",
       "    .dataframe thead th {\n",
       "        text-align: right;\n",
       "    }\n",
       "</style>\n",
       "<table border=\"1\" class=\"dataframe\">\n",
       "  <thead>\n",
       "    <tr style=\"text-align: right;\">\n",
       "      <th></th>\n",
       "      <th>birthday</th>\n",
       "    </tr>\n",
       "  </thead>\n",
       "  <tbody>\n",
       "    <tr>\n",
       "      <th>count</th>\n",
       "      <td>11599</td>\n",
       "    </tr>\n",
       "    <tr>\n",
       "      <th>mean</th>\n",
       "      <td>1854-11-09 11:37:20.572463104</td>\n",
       "    </tr>\n",
       "    <tr>\n",
       "      <th>min</th>\n",
       "      <td>1721-04-19 00:00:00</td>\n",
       "    </tr>\n",
       "    <tr>\n",
       "      <th>25%</th>\n",
       "      <td>1813-07-12 12:00:00</td>\n",
       "    </tr>\n",
       "    <tr>\n",
       "      <th>50%</th>\n",
       "      <td>1850-04-23 00:00:00</td>\n",
       "    </tr>\n",
       "    <tr>\n",
       "      <th>75%</th>\n",
       "      <td>1895-01-07 00:00:00</td>\n",
       "    </tr>\n",
       "    <tr>\n",
       "      <th>max</th>\n",
       "      <td>1995-08-01 00:00:00</td>\n",
       "    </tr>\n",
       "  </tbody>\n",
       "</table>\n",
       "</div>"
      ],
      "text/plain": [
       "                            birthday\n",
       "count                          11599\n",
       "mean   1854-11-09 11:37:20.572463104\n",
       "min              1721-04-19 00:00:00\n",
       "25%              1813-07-12 12:00:00\n",
       "50%              1850-04-23 00:00:00\n",
       "75%              1895-01-07 00:00:00\n",
       "max              1995-08-01 00:00:00"
      ]
     },
     "execution_count": 17,
     "metadata": {},
     "output_type": "execute_result"
    }
   ],
   "source": [
    "df.describe()"
   ]
  },
  {
   "cell_type": "code",
   "execution_count": 20,
   "metadata": {},
   "outputs": [
    {
     "name": "stderr",
     "output_type": "stream",
     "text": [
      "/var/folders/1c/2l3t80fd68337kqkdg5w4dqr0000gn/T/ipykernel_80264/755020895.py:1: FutureWarning: The default of observed=False is deprecated and will be changed to True in a future version of pandas. Pass observed=False to retain current behavior or observed=True to adopt the future default and silence this warning.\n",
      "  df.groupby([\"gender\", \"state\"])[\"last_name\"].count()\n"
     ]
    },
    {
     "data": {
      "text/plain": [
       "gender  state\n",
       "F       AK         0\n",
       "        AL         4\n",
       "        AR         5\n",
       "        AS         0\n",
       "        AZ         5\n",
       "                ... \n",
       "M       VT       116\n",
       "        WA        91\n",
       "        WI       199\n",
       "        WV       120\n",
       "        WY        39\n",
       "Name: last_name, Length: 116, dtype: int64"
      ]
     },
     "execution_count": 20,
     "metadata": {},
     "output_type": "execute_result"
    }
   ],
   "source": [
    "# groupng jointly on two columns, \n",
    "# finds the count of congressional members broken down by gender then state\n",
    "df.groupby([\"gender\", \"state\"])[\"last_name\"].count()"
   ]
  },
  {
   "cell_type": "code",
   "execution_count": 24,
   "metadata": {},
   "outputs": [
    {
     "name": "stderr",
     "output_type": "stream",
     "text": [
      "/var/folders/1c/2l3t80fd68337kqkdg5w4dqr0000gn/T/ipykernel_80264/966111394.py:1: FutureWarning: The default of observed=False is deprecated and will be changed to True in a future version of pandas. Pass observed=False to retain current behavior or observed=True to adopt the future default and silence this warning.\n",
      "  df.groupby(\"state\", sort=False)[\"last_name\"].count()\n"
     ]
    },
    {
     "data": {
      "text/plain": [
       "state\n",
       "DE      97\n",
       "VA     435\n",
       "SC     252\n",
       "MD     306\n",
       "PA    1057\n",
       "MA     427\n",
       "NJ     361\n",
       "GA     319\n",
       "NY    1479\n",
       "NC     360\n",
       "CT     240\n",
       "VT     116\n",
       "KY     374\n",
       "RI     109\n",
       "NH     181\n",
       "TN     302\n",
       "OH     681\n",
       "MS     156\n",
       "OL       2\n",
       "IN     345\n",
       "LA     199\n",
       "IL     493\n",
       "MO     337\n",
       "AL     211\n",
       "AR     117\n",
       "ME     175\n",
       "FL     166\n",
       "MI     300\n",
       "IA     206\n",
       "WI     199\n",
       "TX     269\n",
       "CA     375\n",
       "OR      92\n",
       "MN     162\n",
       "NM      58\n",
       "NE     129\n",
       "WA      97\n",
       "KS     143\n",
       "UT      56\n",
       "NV      56\n",
       "CO      93\n",
       "WV     121\n",
       "DK       9\n",
       "AZ      51\n",
       "ID      59\n",
       "MT      52\n",
       "WY      41\n",
       "DC       2\n",
       "ND      44\n",
       "SD      51\n",
       "OK      94\n",
       "HI      25\n",
       "PR      19\n",
       "AK      17\n",
       "PI      13\n",
       "VI       4\n",
       "GU       5\n",
       "AS       2\n",
       "Name: last_name, dtype: int64"
      ]
     },
     "execution_count": 24,
     "metadata": {},
     "output_type": "execute_result"
    }
   ],
   "source": [
    "df.groupby(\"state\", sort=False)[\"last_name\"].count()"
   ]
  },
  {
   "cell_type": "markdown",
   "metadata": {},
   "source": [
    "### Air Quality"
   ]
  },
  {
   "cell_type": "code",
   "execution_count": 58,
   "metadata": {},
   "outputs": [
    {
     "name": "stderr",
     "output_type": "stream",
     "text": [
      "/var/folders/1c/2l3t80fd68337kqkdg5w4dqr0000gn/T/ipykernel_80264/3602939872.py:1: FutureWarning: Support for nested sequences for 'parse_dates' in pd.read_csv is deprecated. Combine the desired columns with pd.to_datetime after parsing instead.\n",
      "  air_df = pd.read_csv(\"data/AirQualityUCI.csv\", delimiter=\",|;\",\n",
      "/var/folders/1c/2l3t80fd68337kqkdg5w4dqr0000gn/T/ipykernel_80264/3602939872.py:1: ParserWarning: Falling back to the 'python' engine because the 'c' engine does not support regex separators (separators > 1 char and different from '\\s+' are interpreted as regex); you can avoid this warning by specifying engine='python'.\n",
      "  air_df = pd.read_csv(\"data/AirQualityUCI.csv\", delimiter=\",|;\",\n",
      "/var/folders/1c/2l3t80fd68337kqkdg5w4dqr0000gn/T/ipykernel_80264/3602939872.py:1: UserWarning: Could not infer format, so each element will be parsed individually, falling back to `dateutil`. To ensure parsing is consistent and as-expected, please specify a format.\n",
      "  air_df = pd.read_csv(\"data/AirQualityUCI.csv\", delimiter=\",|;\",\n"
     ]
    }
   ],
   "source": [
    "air_df = pd.read_csv(\"data/AirQualityUCI.csv\", delimiter=\",|;\",\n",
    "            parse_dates=[[\"Date\", \"Time\"]],\n",
    "            na_values=[-200],\n",
    "            usecols=[\"Date\", \"Time\", \"CO(GT)\", \"T\", \"RH\", \"AH\"]).rename(\n",
    "                columns={\n",
    "                    \"CO(GT)\": \"co\",\n",
    "                    \"Date_Time\": \"tstamp\",\n",
    "                    \"T\": \"temp_c\",\n",
    "                    \"RH\": \"rel_hum\",\n",
    "                    \"AH\": \"abs_hum\",\n",
    "                    }\n",
    "                ).set_index(\"tstamp\")"
   ]
  },
  {
   "cell_type": "code",
   "execution_count": 59,
   "metadata": {},
   "outputs": [
    {
     "data": {
      "text/html": [
       "<div>\n",
       "<style scoped>\n",
       "    .dataframe tbody tr th:only-of-type {\n",
       "        vertical-align: middle;\n",
       "    }\n",
       "\n",
       "    .dataframe tbody tr th {\n",
       "        vertical-align: top;\n",
       "    }\n",
       "\n",
       "    .dataframe thead th {\n",
       "        text-align: right;\n",
       "    }\n",
       "</style>\n",
       "<table border=\"1\" class=\"dataframe\">\n",
       "  <thead>\n",
       "    <tr style=\"text-align: right;\">\n",
       "      <th></th>\n",
       "      <th>co</th>\n",
       "      <th>temp_c</th>\n",
       "      <th>rel_hum</th>\n",
       "      <th>abs_hum</th>\n",
       "    </tr>\n",
       "    <tr>\n",
       "      <th>tstamp</th>\n",
       "      <th></th>\n",
       "      <th></th>\n",
       "      <th></th>\n",
       "      <th></th>\n",
       "    </tr>\n",
       "  </thead>\n",
       "  <tbody>\n",
       "    <tr>\n",
       "      <th>10/03/2004 18.00.00</th>\n",
       "      <td>2.0</td>\n",
       "      <td>1692.0</td>\n",
       "      <td>1268.0</td>\n",
       "      <td>13.0</td>\n",
       "    </tr>\n",
       "    <tr>\n",
       "      <th>10/03/2004 19.00.00</th>\n",
       "      <td>2.0</td>\n",
       "      <td>972.0</td>\n",
       "      <td>13.0</td>\n",
       "      <td>3.0</td>\n",
       "    </tr>\n",
       "    <tr>\n",
       "      <th>10/03/2004 20.00.00</th>\n",
       "      <td>2.0</td>\n",
       "      <td>1555.0</td>\n",
       "      <td>1074.0</td>\n",
       "      <td>11.0</td>\n",
       "    </tr>\n",
       "    <tr>\n",
       "      <th>10/03/2004 21.00.00</th>\n",
       "      <td>2.0</td>\n",
       "      <td>1584.0</td>\n",
       "      <td>1203.0</td>\n",
       "      <td>11.0</td>\n",
       "    </tr>\n",
       "    <tr>\n",
       "      <th>10/03/2004 22.00.00</th>\n",
       "      <td>1.0</td>\n",
       "      <td>1490.0</td>\n",
       "      <td>1110.0</td>\n",
       "      <td>11.0</td>\n",
       "    </tr>\n",
       "    <tr>\n",
       "      <th>...</th>\n",
       "      <td>...</td>\n",
       "      <td>...</td>\n",
       "      <td>...</td>\n",
       "      <td>...</td>\n",
       "    </tr>\n",
       "    <tr>\n",
       "      <th>nan nan</th>\n",
       "      <td>NaN</td>\n",
       "      <td>NaN</td>\n",
       "      <td>NaN</td>\n",
       "      <td>NaN</td>\n",
       "    </tr>\n",
       "    <tr>\n",
       "      <th>nan nan</th>\n",
       "      <td>NaN</td>\n",
       "      <td>NaN</td>\n",
       "      <td>NaN</td>\n",
       "      <td>NaN</td>\n",
       "    </tr>\n",
       "    <tr>\n",
       "      <th>nan nan</th>\n",
       "      <td>NaN</td>\n",
       "      <td>NaN</td>\n",
       "      <td>NaN</td>\n",
       "      <td>NaN</td>\n",
       "    </tr>\n",
       "    <tr>\n",
       "      <th>nan nan</th>\n",
       "      <td>NaN</td>\n",
       "      <td>NaN</td>\n",
       "      <td>NaN</td>\n",
       "      <td>NaN</td>\n",
       "    </tr>\n",
       "    <tr>\n",
       "      <th>nan nan</th>\n",
       "      <td>NaN</td>\n",
       "      <td>NaN</td>\n",
       "      <td>NaN</td>\n",
       "      <td>NaN</td>\n",
       "    </tr>\n",
       "  </tbody>\n",
       "</table>\n",
       "<p>9471 rows × 4 columns</p>\n",
       "</div>"
      ],
      "text/plain": [
       "                      co  temp_c  rel_hum  abs_hum\n",
       "tstamp                                            \n",
       "10/03/2004 18.00.00  2.0  1692.0   1268.0     13.0\n",
       "10/03/2004 19.00.00  2.0   972.0     13.0      3.0\n",
       "10/03/2004 20.00.00  2.0  1555.0   1074.0     11.0\n",
       "10/03/2004 21.00.00  2.0  1584.0   1203.0     11.0\n",
       "10/03/2004 22.00.00  1.0  1490.0   1110.0     11.0\n",
       "...                  ...     ...      ...      ...\n",
       "nan nan              NaN     NaN      NaN      NaN\n",
       "nan nan              NaN     NaN      NaN      NaN\n",
       "nan nan              NaN     NaN      NaN      NaN\n",
       "nan nan              NaN     NaN      NaN      NaN\n",
       "nan nan              NaN     NaN      NaN      NaN\n",
       "\n",
       "[9471 rows x 4 columns]"
      ]
     },
     "execution_count": 59,
     "metadata": {},
     "output_type": "execute_result"
    }
   ],
   "source": [
    "air_df"
   ]
  },
  {
   "cell_type": "code",
   "execution_count": 57,
   "metadata": {},
   "outputs": [
    {
     "data": {
      "text/plain": [
       "co         float64\n",
       "temp_c     float64\n",
       "rel_hum    float64\n",
       "abs_hum    float64\n",
       "dtype: object"
      ]
     },
     "execution_count": 57,
     "metadata": {},
     "output_type": "execute_result"
    }
   ],
   "source": [
    "air_df.dtypes"
   ]
  },
  {
   "cell_type": "code",
   "execution_count": 60,
   "metadata": {},
   "outputs": [
    {
     "data": {
      "text/plain": [
       "co         1797\n",
       "temp_c      480\n",
       "rel_hum     480\n",
       "abs_hum     480\n",
       "dtype: int64"
      ]
     },
     "execution_count": 60,
     "metadata": {},
     "output_type": "execute_result"
    }
   ],
   "source": [
    "# count the number of nans in each column\n",
    "air_df.isnull().sum()"
   ]
  },
  {
   "cell_type": "code",
   "execution_count": 63,
   "metadata": {},
   "outputs": [],
   "source": [
    "air_df = air_df.dropna()"
   ]
  },
  {
   "cell_type": "code",
   "execution_count": 64,
   "metadata": {},
   "outputs": [
    {
     "data": {
      "text/html": [
       "<div>\n",
       "<style scoped>\n",
       "    .dataframe tbody tr th:only-of-type {\n",
       "        vertical-align: middle;\n",
       "    }\n",
       "\n",
       "    .dataframe tbody tr th {\n",
       "        vertical-align: top;\n",
       "    }\n",
       "\n",
       "    .dataframe thead th {\n",
       "        text-align: right;\n",
       "    }\n",
       "</style>\n",
       "<table border=\"1\" class=\"dataframe\">\n",
       "  <thead>\n",
       "    <tr style=\"text-align: right;\">\n",
       "      <th></th>\n",
       "      <th>co</th>\n",
       "      <th>temp_c</th>\n",
       "      <th>rel_hum</th>\n",
       "      <th>abs_hum</th>\n",
       "    </tr>\n",
       "    <tr>\n",
       "      <th>tstamp</th>\n",
       "      <th></th>\n",
       "      <th></th>\n",
       "      <th></th>\n",
       "      <th></th>\n",
       "    </tr>\n",
       "  </thead>\n",
       "  <tbody>\n",
       "    <tr>\n",
       "      <th>10/03/2004 18.00.00</th>\n",
       "      <td>2.0</td>\n",
       "      <td>1692.0</td>\n",
       "      <td>1268.0</td>\n",
       "      <td>13.0</td>\n",
       "    </tr>\n",
       "    <tr>\n",
       "      <th>10/03/2004 19.00.00</th>\n",
       "      <td>2.0</td>\n",
       "      <td>972.0</td>\n",
       "      <td>13.0</td>\n",
       "      <td>3.0</td>\n",
       "    </tr>\n",
       "    <tr>\n",
       "      <th>10/03/2004 20.00.00</th>\n",
       "      <td>2.0</td>\n",
       "      <td>1555.0</td>\n",
       "      <td>1074.0</td>\n",
       "      <td>11.0</td>\n",
       "    </tr>\n",
       "    <tr>\n",
       "      <th>10/03/2004 21.00.00</th>\n",
       "      <td>2.0</td>\n",
       "      <td>1584.0</td>\n",
       "      <td>1203.0</td>\n",
       "      <td>11.0</td>\n",
       "    </tr>\n",
       "    <tr>\n",
       "      <th>10/03/2004 22.00.00</th>\n",
       "      <td>1.0</td>\n",
       "      <td>1490.0</td>\n",
       "      <td>1110.0</td>\n",
       "      <td>11.0</td>\n",
       "    </tr>\n",
       "  </tbody>\n",
       "</table>\n",
       "</div>"
      ],
      "text/plain": [
       "                      co  temp_c  rel_hum  abs_hum\n",
       "tstamp                                            \n",
       "10/03/2004 18.00.00  2.0  1692.0   1268.0     13.0\n",
       "10/03/2004 19.00.00  2.0   972.0     13.0      3.0\n",
       "10/03/2004 20.00.00  2.0  1555.0   1074.0     11.0\n",
       "10/03/2004 21.00.00  2.0  1584.0   1203.0     11.0\n",
       "10/03/2004 22.00.00  1.0  1490.0   1110.0     11.0"
      ]
     },
     "execution_count": 64,
     "metadata": {},
     "output_type": "execute_result"
    }
   ],
   "source": [
    "air_df.head()"
   ]
  },
  {
   "cell_type": "code",
   "execution_count": 65,
   "metadata": {},
   "outputs": [
    {
     "data": {
      "text/plain": [
       "'01/01/2005 01.00.00'"
      ]
     },
     "execution_count": 65,
     "metadata": {},
     "output_type": "execute_result"
    }
   ],
   "source": [
    "air_df.index.min()"
   ]
  },
  {
   "cell_type": "code",
   "execution_count": 66,
   "metadata": {},
   "outputs": [
    {
     "data": {
      "text/plain": [
       "'31/10/2004 23.00.00'"
      ]
     },
     "execution_count": 66,
     "metadata": {},
     "output_type": "execute_result"
    }
   ],
   "source": [
    "air_df.index.max()"
   ]
  },
  {
   "cell_type": "code",
   "execution_count": 67,
   "metadata": {},
   "outputs": [
    {
     "ename": "AttributeError",
     "evalue": "'RangeIndex' object has no attribute 'day_name'",
     "output_type": "error",
     "traceback": [
      "\u001b[0;31m---------------------------------------------------------------------------\u001b[0m",
      "\u001b[0;31mAttributeError\u001b[0m                            Traceback (most recent call last)",
      "Cell \u001b[0;32mIn[67], line 1\u001b[0m\n\u001b[0;32m----> 1\u001b[0m \u001b[43mdf\u001b[49m\u001b[38;5;241;43m.\u001b[39;49m\u001b[43mindex\u001b[49m\u001b[38;5;241;43m.\u001b[39;49m\u001b[43mday_name\u001b[49m()\n",
      "\u001b[0;31mAttributeError\u001b[0m: 'RangeIndex' object has no attribute 'day_name'"
     ]
    }
   ],
   "source": [
    "df.index.day_name()"
   ]
  },
  {
   "cell_type": "markdown",
   "metadata": {},
   "source": []
  },
  {
   "cell_type": "code",
   "execution_count": null,
   "metadata": {},
   "outputs": [],
   "source": []
  }
 ],
 "metadata": {
  "kernelspec": {
   "display_name": "venv",
   "language": "python",
   "name": "venv"
  },
  "language_info": {
   "codemirror_mode": {
    "name": "ipython",
    "version": 3
   },
   "file_extension": ".py",
   "mimetype": "text/x-python",
   "name": "python",
   "nbconvert_exporter": "python",
   "pygments_lexer": "ipython3",
   "version": "3.11.6"
  }
 },
 "nbformat": 4,
 "nbformat_minor": 2
}
