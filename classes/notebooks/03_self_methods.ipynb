{
 "cells": [
  {
   "cell_type": "code",
   "execution_count": null,
   "metadata": {},
   "outputs": [],
   "source": [
    "class Employee():\n",
    "    def __init__(self, name, age, position, salary):\n",
    "        self.name = name\n",
    "        self.age = age\n",
    "        self.position = position\n",
    "        self.salary = salary\n",
    "    \n",
    "    def increase_salary(employee, percent):\n",
    "        employee['salary'] += employee['salary'] * (percent/100)\n",
    "        \n",
    "    \n",
    "    def employee_info(employee):\n",
    "        print(f\"\"\"{employee['name']} is {employee['age']} years old.\n",
    "              Employee is a {employee['position']} with a salary of £{employee['salary']}\n",
    "              \"\"\")"
   ]
  },
  {
   "cell_type": "code",
   "execution_count": null,
   "metadata": {},
   "outputs": [],
   "source": [
    "# Class instance\n",
    "employee1 = Employee(name=\"mario\", \n",
    "                     age=38,\n",
    "                     position=\"plumber\",\n",
    "                     salary=800) #bil\n",
    "\n",
    "# Class instance\n",
    "employee2 = Employee(name=\"zelda\",\n",
    "                     age=37,\n",
    "                     position=\"princess\",\n",
    "                     salary=160) # mil"
   ]
  },
  {
   "cell_type": "code",
   "execution_count": null,
   "metadata": {},
   "outputs": [],
   "source": [
    "Employee.increase_salary(employee1, 200)\n",
    "\n",
    "# objects are not dictionaries"
   ]
  },
  {
   "cell_type": "code",
   "execution_count": null,
   "metadata": {},
   "outputs": [],
   "source": [
    "# Can be fixed with the following code:\n",
    "# Not supposed to use the dict attribute, because it defeats the purpose of using objects\n",
    "Employee.increase_salary(employee1.__dict__, 10)\n",
    "\n",
    "employee1.salary"
   ]
  },
  {
   "cell_type": "code",
   "execution_count": null,
   "metadata": {},
   "outputs": [],
   "source": [
    "employee1.salary"
   ]
  },
  {
   "cell_type": "code",
   "execution_count": null,
   "metadata": {},
   "outputs": [],
   "source": [
    "class Employee():\n",
    "    def __init__(self, name, age, position, salary):\n",
    "        self.name = name\n",
    "        self.age = age\n",
    "        self.position = position\n",
    "        self.salary = salary\n",
    "    \n",
    "\n",
    "    # methods are known as instance functions\n",
    "    # methods = functions inside of a class\n",
    "    def increase_salary(employee, percent):\n",
    "        employee.salary += employee.salary * (percent/100)\n",
    "    \n",
    "    def info(employee):\n",
    "        print(f\"\"\"{employee.name.title()} is {employee.age} years old. {employee.name.title()} is a {employee.position} with a salary of £{employee.salary}\n",
    "              \"\"\")"
   ]
  },
  {
   "cell_type": "code",
   "execution_count": null,
   "metadata": {},
   "outputs": [],
   "source": [
    "# Class instance\n",
    "employee1 = Employee(name=\"mario\", \n",
    "                     age=38,\n",
    "                     position=\"plumber\",\n",
    "                     salary=800) #bil\n",
    "\n",
    "# Class instance\n",
    "employee2 = Employee(name=\"zelda\",\n",
    "                     age=37,\n",
    "                     position=\"princess\",\n",
    "                     salary=160) # mil"
   ]
  },
  {
   "cell_type": "code",
   "execution_count": null,
   "metadata": {},
   "outputs": [],
   "source": [
    "Employee.increase_salary(employee=employee1, percent=10)"
   ]
  },
  {
   "cell_type": "code",
   "execution_count": null,
   "metadata": {},
   "outputs": [],
   "source": [
    "Employee.info(employee1)"
   ]
  },
  {
   "cell_type": "code",
   "execution_count": null,
   "metadata": {},
   "outputs": [],
   "source": [
    "class Employee():\n",
    "    def __init__(self, name, age, position, salary):\n",
    "        self.name = name\n",
    "        self.age = age\n",
    "        self.position = position\n",
    "        self.salary = salary\n",
    "\n",
    "    # methods are known as instance functions\n",
    "    # methods = functions inside of a class\n",
    "    def increase_salary(self, percent):\n",
    "        self.salary += self.salary * (percent/100)\n",
    "    \n",
    "    def info(self):\n",
    "        print(f\"\"\"{self.name.title()} is {self.age} years old. {self.name.title()} is a {self.position} with a salary of £{self.salary}\n",
    "              \"\"\")"
   ]
  },
  {
   "cell_type": "code",
   "execution_count": null,
   "metadata": {},
   "outputs": [],
   "source": [
    "# Class instance\n",
    "employee1 = Employee(name=\"mario\", \n",
    "                     age=38,\n",
    "                     position=\"plumber\",\n",
    "                     salary=800) #bil\n",
    "\n",
    "# Class instance\n",
    "employee2 = Employee(name=\"zelda\",\n",
    "                     age=37,\n",
    "                     position=\"princess\",\n",
    "                     salary=160) # mil"
   ]
  },
  {
   "cell_type": "code",
   "execution_count": null,
   "metadata": {},
   "outputs": [],
   "source": [
    "employee1.increase_salary(percent=10)\n",
    "employee1.info()"
   ]
  },
  {
   "cell_type": "code",
   "execution_count": null,
   "metadata": {},
   "outputs": [],
   "source": [
    "employee2.increase_salary(percent=10)\n",
    "employee2.info()"
   ]
  },
  {
   "cell_type": "code",
   "execution_count": null,
   "metadata": {},
   "outputs": [],
   "source": []
  }
 ],
 "metadata": {
  "kernelspec": {
   "display_name": "sandbox_venv",
   "language": "python",
   "name": "sandbox_venv"
  },
  "language_info": {
   "codemirror_mode": {
    "name": "ipython",
    "version": 3
   },
   "file_extension": ".py",
   "mimetype": "text/x-python",
   "name": "python",
   "nbconvert_exporter": "python",
   "pygments_lexer": "ipython3",
   "version": "3.11.3"
  }
 },
 "nbformat": 4,
 "nbformat_minor": 2
}
