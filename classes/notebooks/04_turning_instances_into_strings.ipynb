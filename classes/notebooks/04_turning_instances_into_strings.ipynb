{
 "cells": [
  {
   "cell_type": "code",
   "execution_count": null,
   "metadata": {},
   "outputs": [],
   "source": [
    "class Employee():\n",
    "    def __init__(self, name, age, position, salary):\n",
    "        self.name = name\n",
    "        self.age = age\n",
    "        self.position = position\n",
    "        self.salary = salary\n",
    "\n",
    "    # methods are known as instance functions\n",
    "    # methods = functions inside of a class\n",
    "    def increase_salary(self, percent):\n",
    "        self.salary += self.salary * (percent/100)\n",
    "    \n",
    "    def info(self):\n",
    "        print(f\"\"\"{self.name.title()} is {self.age} years old. {self.name.title()} is a {self.position} with a salary of £{self.salary}\n",
    "              \"\"\")"
   ]
  },
  {
   "cell_type": "code",
   "execution_count": null,
   "metadata": {},
   "outputs": [],
   "source": [
    "# Class instance\n",
    "employee1 = Employee(name=\"mario\", \n",
    "                     age=38,\n",
    "                     position=\"plumber\",\n",
    "                     salary=800) #bil\n",
    "\n",
    "# Class instance\n",
    "employee2 = Employee(name=\"zelda\",\n",
    "                     age=37,\n",
    "                     position=\"princess\",\n",
    "                     salary=160) # mil"
   ]
  },
  {
   "cell_type": "code",
   "execution_count": null,
   "metadata": {},
   "outputs": [],
   "source": [
    "print(employee2)"
   ]
  },
  {
   "cell_type": "code",
   "execution_count": null,
   "metadata": {},
   "outputs": [],
   "source": [
    "class Employee():\n",
    "    def __init__(self, name, age, position, salary):\n",
    "        self.name = name\n",
    "        self.age = age\n",
    "        self.position = position\n",
    "        self.salary = salary\n",
    "\n",
    "    # methods are known as instance functions\n",
    "    # methods = functions inside of a class\n",
    "    def increase_salary(self, percent):\n",
    "        self.salary += self.salary * (percent/100)\n",
    "    \n",
    "    def __str__(self):\n",
    "        # return readable str representation of an object\n",
    "        # usually for an ender user \n",
    "        return(f\"\"\"{self.name.title()} is {self.age} years old. {self.name.title()} is a {self.position} with a salary of £{self.salary}\n",
    "              \"\"\")"
   ]
  },
  {
   "cell_type": "code",
   "execution_count": null,
   "metadata": {},
   "outputs": [],
   "source": [
    "# Class instance\n",
    "employee1 = Employee(name=\"mario\", \n",
    "                     age=38,\n",
    "                     position=\"plumber\",\n",
    "                     salary=800) #bil\n",
    "\n",
    "# Class instance\n",
    "employee2 = Employee(name=\"zelda\",\n",
    "                     age=37,\n",
    "                     position=\"princess\",\n",
    "                     salary=160) # mil"
   ]
  },
  {
   "cell_type": "code",
   "execution_count": null,
   "metadata": {},
   "outputs": [],
   "source": [
    "print(employee1)"
   ]
  },
  {
   "cell_type": "code",
   "execution_count": null,
   "metadata": {},
   "outputs": [],
   "source": [
    "print(eval(repr(employee1)))"
   ]
  },
  {
   "cell_type": "code",
   "execution_count": null,
   "metadata": {},
   "outputs": [],
   "source": [
    "print(eval(repr(employee1))) # name of employee considered to be a variable"
   ]
  },
  {
   "cell_type": "code",
   "execution_count": null,
   "metadata": {},
   "outputs": [],
   "source": [
    "import datetime"
   ]
  },
  {
   "cell_type": "code",
   "execution_count": null,
   "metadata": {},
   "outputs": [],
   "source": [
    "dt =datetime.date(2023, 11, 20)"
   ]
  },
  {
   "cell_type": "code",
   "execution_count": null,
   "metadata": {},
   "outputs": [],
   "source": [
    "str(dt)"
   ]
  },
  {
   "cell_type": "code",
   "execution_count": null,
   "metadata": {},
   "outputs": [],
   "source": [
    "repr(dt)"
   ]
  },
  {
   "cell_type": "code",
   "execution_count": null,
   "metadata": {},
   "outputs": [],
   "source": [
    "2 + 2"
   ]
  },
  {
   "cell_type": "code",
   "execution_count": null,
   "metadata": {},
   "outputs": [],
   "source": [
    "# evaluate a string as python code\n",
    "eval(\"2+2\")"
   ]
  },
  {
   "cell_type": "code",
   "execution_count": null,
   "metadata": {},
   "outputs": [],
   "source": [
    "dt2 = eval(repr(dt))"
   ]
  },
  {
   "cell_type": "code",
   "execution_count": null,
   "metadata": {},
   "outputs": [],
   "source": [
    "dt2"
   ]
  },
  {
   "cell_type": "code",
   "execution_count": null,
   "metadata": {},
   "outputs": [],
   "source": [
    "class Employee():\n",
    "    def __init__(self, name, age, position, salary):\n",
    "        self.name = name\n",
    "        self.age = age\n",
    "        self.position = position\n",
    "        self.salary = salary\n",
    "\n",
    "    # methods are known as instance functions\n",
    "    # methods = functions inside of a class\n",
    "    def increase_salary(self, percent):\n",
    "        self.salary += self.salary * (percent/100)\n",
    "    \n",
    "    def __str__(self):\n",
    "        # return readable str representation of an object\n",
    "        # usually for an ender user \n",
    "        return(f\"\"\"{self.name.title()} is {self.age} years old. {self.name.title()} is a {self.position} with a salary of £{self.salary}\n",
    "              \"\"\")\n",
    "        \n",
    "    def __repr__(self) -> str:\n",
    "        # return official string (used by developers)\n",
    "        return (\n",
    "            f\"Employee(\"\n",
    "            f\"{repr(self.name)}, {repr(self.age)}, \"\n",
    "            f\"{repr(self.position)}, {repr(self.salary)})\"\n",
    "            )"
   ]
  },
  {
   "cell_type": "code",
   "execution_count": null,
   "metadata": {},
   "outputs": [],
   "source": [
    "# Class instance\n",
    "employee1 = Employee(name=\"mario\", \n",
    "                     age=38,\n",
    "                     position=\"plumber\",\n",
    "                     salary=800) #bil\n",
    "\n",
    "# Class instance\n",
    "employee2 = Employee(name=\"zelda\",\n",
    "                     age=37,\n",
    "                     position=\"princess\",\n",
    "                     salary=160) # mil"
   ]
  },
  {
   "cell_type": "code",
   "execution_count": null,
   "metadata": {},
   "outputs": [],
   "source": [
    "print(eval(repr(employee1)))"
   ]
  },
  {
   "cell_type": "code",
   "execution_count": null,
   "metadata": {},
   "outputs": [],
   "source": []
  }
 ],
 "metadata": {
  "kernelspec": {
   "display_name": "sandbox_venv",
   "language": "python",
   "name": "sandbox_venv"
  },
  "language_info": {
   "codemirror_mode": {
    "name": "ipython",
    "version": 3
   },
   "file_extension": ".py",
   "mimetype": "text/x-python",
   "name": "python",
   "nbconvert_exporter": "python",
   "pygments_lexer": "ipython3",
   "version": "3.11.3"
  }
 },
 "nbformat": 4,
 "nbformat_minor": 2
}
