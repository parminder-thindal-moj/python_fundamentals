{
 "cells": [
  {
   "cell_type": "code",
   "execution_count": null,
   "metadata": {},
   "outputs": [],
   "source": [
    "class Employee():\n",
    "    def __init__(self, name, age, position, salary):\n",
    "        self.name = name\n",
    "        self.age = age\n",
    "        self.position = position\n",
    "        self.salary = salary\n",
    "\n",
    "    # methods are known as instance functions\n",
    "    # methods = functions inside of a class\n",
    "    def increase_salary(self, percent):\n",
    "        self.salary += self.salary * (percent/100)\n",
    "    \n",
    "    def __str__(self):\n",
    "        # return human readable str representation of an object\n",
    "        # usually for an ender user \n",
    "        return(f\"\"\"{self.name.title()} is {self.age} years old. {self.name.title()} is a {self.position} with a salary of £{self.salary}\n",
    "              \"\"\")\n",
    "        \n",
    "    def __repr__(self) -> str:\n",
    "        # return official object (used by developers)\n",
    "        # returns a string, that can be evaluated by code\n",
    "        # create a new instance using this code/\n",
    "        return (\n",
    "            f\"Employee(\"\n",
    "            f\"{repr(self.name)}, {repr(self.age)}, \"\n",
    "            f\"{repr(self.position)}, {repr(self.salary)})\"\n",
    "            )\n",
    "    \n",
    "    def __add__(self, other_employee):\n",
    "        # combined their age and returns a new Employee\n",
    "        return Employee(\"New\", self.age + other_employee.age, \"dev\", 2000)"
   ]
  },
  {
   "cell_type": "code",
   "execution_count": null,
   "metadata": {},
   "outputs": [],
   "source": [
    "# Class instance\n",
    "employee1 = Employee(name=\"mario\", \n",
    "                     age=38,\n",
    "                     position=\"plumber\",\n",
    "                     salary=800) #bil\n",
    "\n",
    "# Class instance\n",
    "employee2 = Employee(name=\"zelda\",\n",
    "                     age=37,\n",
    "                     position=\"princess\",\n",
    "                     salary=160) # mil"
   ]
  },
  {
   "cell_type": "code",
   "execution_count": null,
   "metadata": {},
   "outputs": [],
   "source": [
    "print(eval(repr(employee1)))"
   ]
  },
  {
   "cell_type": "markdown",
   "metadata": {},
   "source": [
    "# Dunder Methods"
   ]
  },
  {
   "cell_type": "markdown",
   "metadata": {},
   "source": [
    "Special magic methods that and end with \"__\".\n",
    "Usuall invoked with a special syntax\n",
    "Special instance behaviour"
   ]
  },
  {
   "cell_type": "code",
   "execution_count": null,
   "metadata": {},
   "outputs": [],
   "source": [
    "employee3 = employee1 + employee2"
   ]
  },
  {
   "cell_type": "code",
   "execution_count": null,
   "metadata": {},
   "outputs": [],
   "source": [
    "employee3"
   ]
  },
  {
   "cell_type": "code",
   "execution_count": null,
   "metadata": {},
   "outputs": [],
   "source": []
  }
 ],
 "metadata": {
  "kernelspec": {
   "display_name": "sandbox_venv",
   "language": "python",
   "name": "sandbox_venv"
  },
  "language_info": {
   "codemirror_mode": {
    "name": "ipython",
    "version": 3
   },
   "file_extension": ".py",
   "mimetype": "text/x-python",
   "name": "python",
   "nbconvert_exporter": "python",
   "pygments_lexer": "ipython3",
   "version": "3.11.3"
  }
 },
 "nbformat": 4,
 "nbformat_minor": 2
}
